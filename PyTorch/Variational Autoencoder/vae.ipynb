{
 "cells": [
  {
   "cell_type": "code",
   "execution_count": 6,
   "metadata": {},
   "outputs": [],
   "source": [
    "import torch\n",
    "import torch.nn as nn\n",
    "import torch\n",
    "import torchvision\n",
    "import argparse\n",
    "import matplotlib\n",
    "import torch.nn as nn\n",
    "import matplotlib.pyplot as plt\n",
    "import numpy as np\n",
    "matplotlib.style.use('ggplot')\n",
    "!mkdir data\n",
    "!mkdir samples\n",
    "!mkdir generated"
   ]
  },
  {
   "cell_type": "code",
   "execution_count": 5,
   "metadata": {},
   "outputs": [],
   "source": [
    "class LVAE(nn.Module):\n",
    "    def __init__(self, in_features):\n",
    "        super(LVAE, self).__init__()\n",
    "        self.features = 16\n",
    "\n",
    "        self.fc1 = nn.Linear(in_features,512)\n",
    "        self.fc2 = nn.Linear(512,self.features*2)\n",
    "\n",
    "        self.fc3 = nn.Linear(self.features,512)\n",
    "        self.fc4 = nn.Linear(512,in_features)\n",
    "\n",
    "        self.relu = nn.ReLU()\n",
    "        self.sigmoid = nn.Sigmoid()\n",
    "    def reparameterize(self, mu, log_var):\n",
    "\n",
    "        std = torch.exp(0.5*log_var)\n",
    "        eps = torch.randn_like(std)\n",
    "        sample = mu + (eps * std)\n",
    "        return sample\n",
    "\n",
    "    def forward(self,x):\n",
    "        x = self.fc1(x)\n",
    "        x = self.relu(x)\n",
    "        x = self.fc2(x)\n",
    "        #print('Before view',x.shape)\n",
    "        x = x.view(-1, 2, self.features)\n",
    "        #print('After view',x.shape)\n",
    "\n",
    "        mu = x[:,0,:]\n",
    "        log_var = x[:,1,:]\n",
    "\n",
    "        z = self.reparameterize(mu, log_var)\n",
    "        #print(z.shape)\n",
    "        x = self.fc3(z)\n",
    "        x = self.relu(x)\n",
    "        x = self.fc4(x)\n",
    "        x = self.sigmoid(x)\n",
    "        #print('out view',x.shape)\n",
    "\n",
    "        return x, mu, log_var\n",
    "\n",
    "    def decode(self,z):\n",
    "        z = self.fc3(z)\n",
    "        z = self.relu(z)\n",
    "        z = self.fc4(z)\n",
    "        z = self.sigmoid(z)\n",
    "        #print('out view',x.shape)\n",
    "\n",
    "        return z"
   ]
  },
  {
   "cell_type": "code",
   "execution_count": 7,
   "metadata": {},
   "outputs": [],
   "source": [
    "def floss(loss, mu, log_var):\n",
    "\n",
    "    LOSS = loss\n",
    "    KLD  = -0.5 * torch.sum(1 + log_var - mu.pow(2) - log_var.exp())\n",
    "\n",
    "    return LOSS + KLD"
   ]
  },
  {
   "cell_type": "code",
   "execution_count": 26,
   "metadata": {},
   "outputs": [],
   "source": [
    "EPOCHS = 20\n",
    "BATCH_SIZE = 64\n",
    "LEARNING_RATE = 0.0001\n",
    "DEVICE = torch.device('cuda' if torch.cuda.is_available() else 'cpu')"
   ]
  },
  {
   "cell_type": "code",
   "execution_count": 10,
   "metadata": {},
   "outputs": [],
   "source": [
    "transform = torchvision.transforms.Compose([\n",
    "        torchvision.transforms.ToTensor(),\n",
    "])\n",
    "train = torchvision.datasets.MNIST(\n",
    "    root = './data',\n",
    "    train = True,\n",
    "    download = True,\n",
    "    transform=transform\n",
    ")\n",
    "\n",
    "val = torchvision.datasets.MNIST(\n",
    "    root = './data',\n",
    "    train = False,\n",
    "    download = True,\n",
    "    transform=transform\n",
    ")"
   ]
  },
  {
   "cell_type": "code",
   "execution_count": 11,
   "metadata": {},
   "outputs": [],
   "source": [
    "train_loader = torch.utils.data.DataLoader(\n",
    "        train,\n",
    "        batch_size=BATCH_SIZE,\n",
    "        shuffle=True)\n",
    "\n",
    "val_loader = torch.utils.data.DataLoader(\n",
    "    train,\n",
    "    batch_size=BATCH_SIZE,\n",
    "    shuffle=True)"
   ]
  },
  {
   "cell_type": "code",
   "execution_count": 27,
   "metadata": {},
   "outputs": [],
   "source": [
    "model = LVAE(28*28)\n",
    "model = model.to(DEVICE)\n",
    "optimizer = torch.optim.Adam(model.parameters(),lr = LEARNING_RATE)\n",
    "criterion = nn.BCELoss(reduction='sum')"
   ]
  },
  {
   "cell_type": "code",
   "execution_count": 28,
   "metadata": {},
   "outputs": [
    {
     "name": "stderr",
     "output_type": "stream",
     "text": [
      "938it [00:05, 172.29it/s]                         \n",
      "938it [00:04, 227.78it/s]                         \n",
      "  2%|▏         | 16/937 [00:00<00:05, 158.05it/s]"
     ]
    },
    {
     "name": "stdout",
     "output_type": "stream",
     "text": [
      "Train Loss: 215.8800745361328\n",
      "Val Loss: 164.04961393229166\n"
     ]
    },
    {
     "name": "stderr",
     "output_type": "stream",
     "text": [
      "938it [00:05, 171.85it/s]                         \n",
      "938it [00:03, 234.81it/s]                         \n",
      "  2%|▏         | 16/937 [00:00<00:06, 152.16it/s]"
     ]
    },
    {
     "name": "stdout",
     "output_type": "stream",
     "text": [
      "Train Loss: 151.2730489013672\n",
      "Val Loss: 141.09938133951823\n"
     ]
    },
    {
     "name": "stderr",
     "output_type": "stream",
     "text": [
      "938it [00:05, 171.41it/s]                         \n",
      "938it [00:04, 227.81it/s]                         \n",
      "  2%|▏         | 16/937 [00:00<00:05, 156.38it/s]"
     ]
    },
    {
     "name": "stdout",
     "output_type": "stream",
     "text": [
      "Train Loss: 134.64859645182293\n",
      "Val Loss: 129.64949654947915\n"
     ]
    },
    {
     "name": "stderr",
     "output_type": "stream",
     "text": [
      "938it [00:05, 170.55it/s]                         \n",
      "938it [00:04, 228.37it/s]                         \n",
      "  2%|▏         | 16/937 [00:00<00:05, 157.68it/s]"
     ]
    },
    {
     "name": "stdout",
     "output_type": "stream",
     "text": [
      "Train Loss: 126.81781793619791\n",
      "Val Loss: 124.3214139404297\n"
     ]
    },
    {
     "name": "stderr",
     "output_type": "stream",
     "text": [
      "938it [00:05, 169.94it/s]                         \n",
      "938it [00:04, 229.44it/s]                         \n",
      "  2%|▏         | 16/937 [00:00<00:05, 158.71it/s]"
     ]
    },
    {
     "name": "stdout",
     "output_type": "stream",
     "text": [
      "Train Loss: 122.56949054361979\n",
      "Val Loss: 120.9106193725586\n"
     ]
    },
    {
     "name": "stderr",
     "output_type": "stream",
     "text": [
      "938it [00:05, 170.26it/s]                         \n",
      "938it [00:04, 230.69it/s]                         \n",
      "  2%|▏         | 17/937 [00:00<00:05, 161.79it/s]"
     ]
    },
    {
     "name": "stdout",
     "output_type": "stream",
     "text": [
      "Train Loss: 119.79254817708333\n",
      "Val Loss: 118.6385012084961\n"
     ]
    },
    {
     "name": "stderr",
     "output_type": "stream",
     "text": [
      "938it [00:05, 172.17it/s]                         \n",
      "938it [00:04, 230.23it/s]                         \n",
      "  2%|▏         | 17/937 [00:00<00:05, 162.14it/s]"
     ]
    },
    {
     "name": "stdout",
     "output_type": "stream",
     "text": [
      "Train Loss: 117.77980150146485\n",
      "Val Loss: 116.85968875325521\n"
     ]
    },
    {
     "name": "stderr",
     "output_type": "stream",
     "text": [
      "938it [00:05, 169.61it/s]                         \n",
      "938it [00:04, 234.25it/s]                         \n",
      "  2%|▏         | 17/937 [00:00<00:05, 164.00it/s]"
     ]
    },
    {
     "name": "stdout",
     "output_type": "stream",
     "text": [
      "Train Loss: 116.18747186279298\n",
      "Val Loss: 115.46105787353515\n"
     ]
    },
    {
     "name": "stderr",
     "output_type": "stream",
     "text": [
      "938it [00:05, 171.21it/s]                         \n",
      "938it [00:04, 226.38it/s]                         \n",
      "  2%|▏         | 15/937 [00:00<00:06, 143.46it/s]"
     ]
    },
    {
     "name": "stdout",
     "output_type": "stream",
     "text": [
      "Train Loss: 114.94166714680989\n",
      "Val Loss: 114.27858844401041\n"
     ]
    },
    {
     "name": "stderr",
     "output_type": "stream",
     "text": [
      "938it [00:05, 171.54it/s]                         \n",
      "938it [00:04, 225.99it/s]                         \n",
      "  2%|▏         | 15/937 [00:00<00:06, 147.43it/s]"
     ]
    },
    {
     "name": "stdout",
     "output_type": "stream",
     "text": [
      "Train Loss: 113.89647638346354\n",
      "Val Loss: 113.30776529134114\n"
     ]
    },
    {
     "name": "stderr",
     "output_type": "stream",
     "text": [
      "938it [00:05, 161.19it/s]                         \n",
      "938it [00:04, 219.82it/s]                         \n",
      "  2%|▏         | 16/937 [00:00<00:05, 156.37it/s]"
     ]
    },
    {
     "name": "stdout",
     "output_type": "stream",
     "text": [
      "Train Loss: 113.02933661295573\n",
      "Val Loss: 112.69439653320312\n"
     ]
    },
    {
     "name": "stderr",
     "output_type": "stream",
     "text": [
      "938it [00:05, 165.21it/s]                         \n",
      "938it [00:04, 227.80it/s]                         \n",
      "  2%|▏         | 17/937 [00:00<00:05, 164.65it/s]"
     ]
    },
    {
     "name": "stdout",
     "output_type": "stream",
     "text": [
      "Train Loss: 112.27060297851563\n",
      "Val Loss: 111.9114796875\n"
     ]
    },
    {
     "name": "stderr",
     "output_type": "stream",
     "text": [
      "938it [00:05, 169.96it/s]                         \n",
      "938it [00:03, 235.44it/s]                         \n",
      "  2%|▏         | 16/937 [00:00<00:05, 158.69it/s]"
     ]
    },
    {
     "name": "stdout",
     "output_type": "stream",
     "text": [
      "Train Loss: 111.61032753092448\n",
      "Val Loss: 111.23428607584636\n"
     ]
    },
    {
     "name": "stderr",
     "output_type": "stream",
     "text": [
      "938it [00:05, 170.86it/s]                         \n",
      "938it [00:04, 232.46it/s]                         \n",
      "  2%|▏         | 17/937 [00:00<00:05, 162.17it/s]"
     ]
    },
    {
     "name": "stdout",
     "output_type": "stream",
     "text": [
      "Train Loss: 111.09151751302083\n",
      "Val Loss: 110.7302171101888\n"
     ]
    },
    {
     "name": "stderr",
     "output_type": "stream",
     "text": [
      "938it [00:05, 171.65it/s]                         \n",
      "938it [00:04, 226.81it/s]                         \n",
      "  2%|▏         | 16/937 [00:00<00:05, 157.06it/s]"
     ]
    },
    {
     "name": "stdout",
     "output_type": "stream",
     "text": [
      "Train Loss: 110.56380173746744\n",
      "Val Loss: 110.2501468343099\n"
     ]
    },
    {
     "name": "stderr",
     "output_type": "stream",
     "text": [
      "938it [00:05, 173.10it/s]                         \n",
      "938it [00:03, 236.36it/s]                         \n",
      "  2%|▏         | 17/937 [00:00<00:05, 165.52it/s]"
     ]
    },
    {
     "name": "stdout",
     "output_type": "stream",
     "text": [
      "Train Loss: 110.1428872639974\n",
      "Val Loss: 109.82473981526692\n"
     ]
    },
    {
     "name": "stderr",
     "output_type": "stream",
     "text": [
      "938it [00:05, 172.05it/s]                         \n",
      "938it [00:03, 237.22it/s]                         \n",
      "  2%|▏         | 17/937 [00:00<00:05, 168.46it/s]"
     ]
    },
    {
     "name": "stdout",
     "output_type": "stream",
     "text": [
      "Train Loss: 109.7552092163086\n",
      "Val Loss: 109.55916110026041\n"
     ]
    },
    {
     "name": "stderr",
     "output_type": "stream",
     "text": [
      "938it [00:05, 171.83it/s]                         \n",
      "938it [00:04, 231.79it/s]                         \n",
      "  2%|▏         | 17/937 [00:00<00:05, 163.49it/s]"
     ]
    },
    {
     "name": "stdout",
     "output_type": "stream",
     "text": [
      "Train Loss: 109.35612504882812\n",
      "Val Loss: 109.09749506835938\n"
     ]
    },
    {
     "name": "stderr",
     "output_type": "stream",
     "text": [
      "938it [00:05, 169.28it/s]                         \n",
      "938it [00:04, 228.97it/s]                         \n",
      "  2%|▏         | 16/937 [00:00<00:06, 152.19it/s]"
     ]
    },
    {
     "name": "stdout",
     "output_type": "stream",
     "text": [
      "Train Loss: 109.08448426920573\n",
      "Val Loss: 108.96381826985677\n"
     ]
    },
    {
     "name": "stderr",
     "output_type": "stream",
     "text": [
      "938it [00:05, 165.19it/s]                         \n",
      "938it [00:04, 227.53it/s]                         "
     ]
    },
    {
     "name": "stdout",
     "output_type": "stream",
     "text": [
      "Train Loss: 108.77296472167968\n",
      "Val Loss: 108.52805737304688\n"
     ]
    },
    {
     "name": "stderr",
     "output_type": "stream",
     "text": [
      "\n"
     ]
    }
   ],
   "source": [
    "training_loss = []\n",
    "validation_loss = []\n",
    "for epoch in range(EPOCHS):\n",
    "    model.train()\n",
    "    total_loss = 0.0\n",
    "    for i, data in tqdm(enumerate(train_loader), total=int(len(train)//train_loader.batch_size)):\n",
    "        inputs, _ = data\n",
    "        inputs = inputs.to(DEVICE)\n",
    "        inputs = inputs.view(inputs.size(0),-1)\n",
    "        optimizer.zero_grad()\n",
    "\n",
    "        out, mu, log_var = model.forward(inputs)\n",
    "        reconstruction_loss = criterion(out,inputs)\n",
    "        loss = floss(reconstruction_loss,mu,log_var)\n",
    "        total_loss += loss.item()\n",
    "        loss.backward()\n",
    "        optimizer.step()\n",
    "\n",
    "        if i % 100 == 0:\n",
    "            num_rows = 8\n",
    "            both = torch.cat((inputs.view(BATCH_SIZE,1,28,28)[:8],\n",
    "                               out.view(BATCH_SIZE,1,28,28)[:8]\n",
    "             ))\n",
    "            torchvision.utils.save_image(both.cpu(),f'./samples/{epoch}_{i}.png',nrow=num_rows)\n",
    "\n",
    "            z = np.random.normal(0,1,(64,16))\n",
    "            z = torch.from_numpy(z).to(DEVICE)\n",
    "            z = z.float()\n",
    "            new = model.decode(z)\n",
    "            new = new.view(BATCH_SIZE,1,28,28)[:8]\n",
    "            torchvision.utils.save_image(new.cpu(),f'./generated/{epoch}_{i}.png',nrow=4)\n",
    "\n",
    "\n",
    "\n",
    "    train_loss = total_loss/(len(train_loader.dataset))\n",
    "\n",
    "    model.eval()\n",
    "    total_loss = 0.0\n",
    "    with torch.no_grad():\n",
    "        for i, data in tqdm(enumerate(val_loader), total = int(len(val)/val_loader.batch_size)):\n",
    "            inputs, _ = data\n",
    "            inputs = inputs.to(DEVICE)\n",
    "            inputs = inputs.view(inputs.size(0), -1)\n",
    "\n",
    "            out, mu, log_var = model.forward(inputs)\n",
    "            reconstruction_loss = criterion(out,inputs)\n",
    "            loss = floss(reconstruction_loss, mu, log_var)\n",
    "            total_loss += loss.item()\n",
    "\n",
    "    val_loss = total_loss/(len(val_loader.dataset))\n",
    "\n",
    "    training_loss.append(train_loss)\n",
    "    validation_loss.append(val_loss)\n",
    "    print(f\"Train Loss: {train_loss}\")\n",
    "    print(f\"Val Loss: {val_loss}\")"
   ]
  },
  {
   "cell_type": "code",
   "execution_count": 33,
   "metadata": {},
   "outputs": [
    {
     "data": {
      "image/png": "[encoded data removed]",
      "text/plain": [
       "<IPython.core.display.Image object>"
      ]
     },
     "execution_count": 33,
     "metadata": {
      "image/png": {
       "height": 500,
       "width": 500
      }
     },
     "output_type": "execute_result"
    }
   ],
   "source": [
    "from IPython.display import Image\n",
    "Image(filename='./generated/16_900.png',width=500,height=500) "
   ]
  },
  {
   "cell_type": "code",
   "execution_count": 37,
   "metadata": {},
   "outputs": [
    {
     "data": {
      "image/png": "[encoded data removed]",
      "text/plain": [
       "<IPython.core.display.Image object>"
      ]
     },
     "execution_count": 37,
     "metadata": {
      "image/png": {
       "height": 500,
       "width": 500
      }
     },
     "output_type": "execute_result"
    }
   ],
   "source": [
    "from IPython.display import Image\n",
    "Image(filename='./generated/19_600.png',width=500,height=500) "
   ]
  },
  {
   "cell_type": "code",
   "execution_count": 39,
   "metadata": {},
   "outputs": [
    {
     "data": {
      "image/png": "[encoded data removed]",
      "text/plain": [
       "<IPython.core.display.Image object>"
      ]
     },
     "execution_count": 39,
     "metadata": {
      "image/png": {
       "height": 500,
       "width": 500
      }
     },
     "output_type": "execute_result"
    }
   ],
   "source": [
    "from IPython.display import Image\n",
    "Image(filename='./samples/18_900.png',width=500,height=500) "
   ]
  },
  {
   "cell_type": "code",
   "execution_count": 38,
   "metadata": {},
   "outputs": [
    {
     "data": {
      "image/png": "[encoded data removed]",
      "text/plain": [
       "<IPython.core.display.Image object>"
      ]
     },
     "execution_count": 38,
     "metadata": {
      "image/png": {
       "height": 500,
       "width": 500
      }
     },
     "output_type": "execute_result"
    }
   ],
   "source": [
    "from IPython.display import Image\n",
    "Image(filename='./samples/19_900.png',width=500,height=500) "
   ]
  },
  {
   "cell_type": "code",
   "execution_count": null,
   "metadata": {},
   "outputs": [],
   "source": []
  }
 ],
 "metadata": {
  "kernelspec": {
   "display_name": "Python 3",
   "language": "python",
   "name": "python3"
  },
  "language_info": {
   "codemirror_mode": {
    "name": "ipython",
    "version": 3
   },
   "file_extension": ".py",
   "mimetype": "text/x-python",
   "name": "python",
   "nbconvert_exporter": "python",
   "pygments_lexer": "ipython3",
   "version": "3.6.10"
  }
 },
 "nbformat": 4,
 "nbformat_minor": 4
}
